{
 "cells": [
  {
   "cell_type": "markdown",
   "id": "19ba5f6a",
   "metadata": {},
   "source": [
    "#7. Answer the following questions  using dataset provided below\n",
    "\n",
    "1. What is the % of sessions with an intention to book a scooter?\n",
    "2. What is the % of sessions with a successful booking? \n",
    "3. What determines, according to you, an intention to book?\n",
    "4. What are factors, according to you, determining a successful booking? \n",
    "5. Do you have any hypotheses after exploring this data? If yes, please add them."
   ]
  },
  {
   "cell_type": "code",
   "execution_count": 40,
   "id": "855360fd",
   "metadata": {},
   "outputs": [],
   "source": [
    "import pandas as pd\n",
    "import matplotlib.pyplot as plt\n",
    "import seaborn as sns"
   ]
  },
  {
   "cell_type": "code",
   "execution_count": 41,
   "id": "4bc04c4e",
   "metadata": {},
   "outputs": [],
   "source": [
    "df = pd.read_csv(\"D:\\Data Analytics - Pre Screening Test\\mobile_events_2020.csv\",sep=\";\")"
   ]
  },
  {
   "cell_type": "code",
   "execution_count": 42,
   "id": "5f8b332d",
   "metadata": {
    "scrolled": true
   },
   "outputs": [
    {
     "data": {
      "text/html": [
       "<div>\n",
       "<style scoped>\n",
       "    .dataframe tbody tr th:only-of-type {\n",
       "        vertical-align: middle;\n",
       "    }\n",
       "\n",
       "    .dataframe tbody tr th {\n",
       "        vertical-align: top;\n",
       "    }\n",
       "\n",
       "    .dataframe thead th {\n",
       "        text-align: right;\n",
       "    }\n",
       "</style>\n",
       "<table border=\"1\" class=\"dataframe\">\n",
       "  <thead>\n",
       "    <tr style=\"text-align: right;\">\n",
       "      <th></th>\n",
       "      <th>anonymous_id</th>\n",
       "      <th>business_zoned</th>\n",
       "      <th>context_app_version</th>\n",
       "      <th>context_device_id</th>\n",
       "      <th>context_os_name</th>\n",
       "      <th>event_name</th>\n",
       "      <th>received_at</th>\n",
       "      <th>created_at</th>\n",
       "    </tr>\n",
       "  </thead>\n",
       "  <tbody>\n",
       "    <tr>\n",
       "      <th>0</th>\n",
       "      <td>9DDC5BCD-0477-4E83-A32A-51013DA0A4E7</td>\n",
       "      <td>Hamburg</td>\n",
       "      <td>3.1.13</td>\n",
       "      <td>7A718FF6-584F-40E2-939D-224231295B1E</td>\n",
       "      <td>iOS</td>\n",
       "      <td>Out-Of-Business Zone View Shown</td>\n",
       "      <td>2020-09-01 23:59:44</td>\n",
       "      <td>2020-09-01 23:59:18</td>\n",
       "    </tr>\n",
       "    <tr>\n",
       "      <th>1</th>\n",
       "      <td>5592E78E-CE87-4258-B8D7-DD834A687A1E</td>\n",
       "      <td>Hamburg</td>\n",
       "      <td>3.1.13</td>\n",
       "      <td>11D0CB16-DA38-4565-9C3B-066E7877856C</td>\n",
       "      <td>iOS</td>\n",
       "      <td>Application Opened</td>\n",
       "      <td>2020-09-01 23:59:41</td>\n",
       "      <td>2020-09-01 23:59:35</td>\n",
       "    </tr>\n",
       "    <tr>\n",
       "      <th>2</th>\n",
       "      <td>5592E78E-CE87-4258-B8D7-DD834A687A1E</td>\n",
       "      <td>Hamburg</td>\n",
       "      <td>3.1.13</td>\n",
       "      <td>11D0CB16-DA38-4565-9C3B-066E7877856C</td>\n",
       "      <td>iOS</td>\n",
       "      <td>Ride Done - Successful</td>\n",
       "      <td>2020-09-01 23:59:41</td>\n",
       "      <td>2020-09-01 23:59:37</td>\n",
       "    </tr>\n",
       "    <tr>\n",
       "      <th>3</th>\n",
       "      <td>5592E78E-CE87-4258-B8D7-DD834A687A1E</td>\n",
       "      <td>Hamburg</td>\n",
       "      <td>3.1.13</td>\n",
       "      <td>11D0CB16-DA38-4565-9C3B-066E7877856C</td>\n",
       "      <td>iOS</td>\n",
       "      <td>Application Opened</td>\n",
       "      <td>2020-09-01 23:59:36</td>\n",
       "      <td>2020-09-01 23:37:46</td>\n",
       "    </tr>\n",
       "    <tr>\n",
       "      <th>4</th>\n",
       "      <td>5592E78E-CE87-4258-B8D7-DD834A687A1E</td>\n",
       "      <td>Hamburg</td>\n",
       "      <td>3.1.13</td>\n",
       "      <td>11D0CB16-DA38-4565-9C3B-066E7877856C</td>\n",
       "      <td>iOS</td>\n",
       "      <td>Ride Done - Unsuccessful</td>\n",
       "      <td>2020-09-01 23:59:36</td>\n",
       "      <td>2020-09-01 23:37:52</td>\n",
       "    </tr>\n",
       "    <tr>\n",
       "      <th>...</th>\n",
       "      <td>...</td>\n",
       "      <td>...</td>\n",
       "      <td>...</td>\n",
       "      <td>...</td>\n",
       "      <td>...</td>\n",
       "      <td>...</td>\n",
       "      <td>...</td>\n",
       "      <td>...</td>\n",
       "    </tr>\n",
       "    <tr>\n",
       "      <th>102417</th>\n",
       "      <td>7C6780F1-B0F4-4525-B008-09591C5DD214</td>\n",
       "      <td>Hamburg</td>\n",
       "      <td>3.1.13</td>\n",
       "      <td>0B5D7461-69F7-436A-8960-B806EEDCA5B4</td>\n",
       "      <td>iOS</td>\n",
       "      <td>Qr Scanner - Enter Number</td>\n",
       "      <td>2020-09-01 00:00:05</td>\n",
       "      <td>2020-08-31 23:59:50</td>\n",
       "    </tr>\n",
       "    <tr>\n",
       "      <th>102418</th>\n",
       "      <td>E1F50677-B43A-47DE-88A9-BD5A552B7D9E</td>\n",
       "      <td>Hamburg</td>\n",
       "      <td>3.1.13</td>\n",
       "      <td>0D0FD67D-303A-4CD6-8C8B-8F033204ACED</td>\n",
       "      <td>iOS</td>\n",
       "      <td>Application Opened</td>\n",
       "      <td>2020-09-01 00:00:04</td>\n",
       "      <td>2020-08-31 23:59:59</td>\n",
       "    </tr>\n",
       "    <tr>\n",
       "      <th>102419</th>\n",
       "      <td>3569EA33-48C7-4E02-8B22-9E613C40481C</td>\n",
       "      <td>Hamburg</td>\n",
       "      <td>3.1.13</td>\n",
       "      <td>0CBB29F5-548F-4A88-B4A3-0284FC03F1FD</td>\n",
       "      <td>iOS</td>\n",
       "      <td>Qr Scanner - Cancel</td>\n",
       "      <td>2020-09-01 00:00:03</td>\n",
       "      <td>2020-08-31 23:59:55</td>\n",
       "    </tr>\n",
       "    <tr>\n",
       "      <th>102420</th>\n",
       "      <td>46f981e2-d66d-43da-922d-38f4c14d02dd</td>\n",
       "      <td>Hamburg</td>\n",
       "      <td>3.1.9</td>\n",
       "      <td>46f981e2-d66d-43da-922d-38f4c14d02dd</td>\n",
       "      <td>Android</td>\n",
       "      <td>Scooter Selected - Auto</td>\n",
       "      <td>2020-09-01 00:00:03</td>\n",
       "      <td>2020-08-31 23:59:41</td>\n",
       "    </tr>\n",
       "    <tr>\n",
       "      <th>102421</th>\n",
       "      <td>7e842b89-f8e9-492d-978d-8dda318eca15</td>\n",
       "      <td>Hamburg</td>\n",
       "      <td>3.1.9</td>\n",
       "      <td>7e842b89-f8e9-492d-978d-8dda318eca15</td>\n",
       "      <td>Android</td>\n",
       "      <td>Scooter Selected - Auto</td>\n",
       "      <td>2020-09-01 00:00:02</td>\n",
       "      <td>2020-08-31 23:59:58</td>\n",
       "    </tr>\n",
       "  </tbody>\n",
       "</table>\n",
       "<p>102422 rows × 8 columns</p>\n",
       "</div>"
      ],
      "text/plain": [
       "                                anonymous_id business_zoned   \n",
       "0       9DDC5BCD-0477-4E83-A32A-51013DA0A4E7        Hamburg  \\\n",
       "1       5592E78E-CE87-4258-B8D7-DD834A687A1E        Hamburg   \n",
       "2       5592E78E-CE87-4258-B8D7-DD834A687A1E        Hamburg   \n",
       "3       5592E78E-CE87-4258-B8D7-DD834A687A1E        Hamburg   \n",
       "4       5592E78E-CE87-4258-B8D7-DD834A687A1E        Hamburg   \n",
       "...                                      ...            ...   \n",
       "102417  7C6780F1-B0F4-4525-B008-09591C5DD214        Hamburg   \n",
       "102418  E1F50677-B43A-47DE-88A9-BD5A552B7D9E        Hamburg   \n",
       "102419  3569EA33-48C7-4E02-8B22-9E613C40481C        Hamburg   \n",
       "102420  46f981e2-d66d-43da-922d-38f4c14d02dd        Hamburg   \n",
       "102421  7e842b89-f8e9-492d-978d-8dda318eca15        Hamburg   \n",
       "\n",
       "       context_app_version                     context_device_id   \n",
       "0                   3.1.13  7A718FF6-584F-40E2-939D-224231295B1E  \\\n",
       "1                   3.1.13  11D0CB16-DA38-4565-9C3B-066E7877856C   \n",
       "2                   3.1.13  11D0CB16-DA38-4565-9C3B-066E7877856C   \n",
       "3                   3.1.13  11D0CB16-DA38-4565-9C3B-066E7877856C   \n",
       "4                   3.1.13  11D0CB16-DA38-4565-9C3B-066E7877856C   \n",
       "...                    ...                                   ...   \n",
       "102417              3.1.13  0B5D7461-69F7-436A-8960-B806EEDCA5B4   \n",
       "102418              3.1.13  0D0FD67D-303A-4CD6-8C8B-8F033204ACED   \n",
       "102419              3.1.13  0CBB29F5-548F-4A88-B4A3-0284FC03F1FD   \n",
       "102420               3.1.9  46f981e2-d66d-43da-922d-38f4c14d02dd   \n",
       "102421               3.1.9  7e842b89-f8e9-492d-978d-8dda318eca15   \n",
       "\n",
       "       context_os_name                       event_name          received_at   \n",
       "0                  iOS  Out-Of-Business Zone View Shown  2020-09-01 23:59:44  \\\n",
       "1                  iOS               Application Opened  2020-09-01 23:59:41   \n",
       "2                  iOS           Ride Done - Successful  2020-09-01 23:59:41   \n",
       "3                  iOS               Application Opened  2020-09-01 23:59:36   \n",
       "4                  iOS         Ride Done - Unsuccessful  2020-09-01 23:59:36   \n",
       "...                ...                              ...                  ...   \n",
       "102417             iOS        Qr Scanner - Enter Number  2020-09-01 00:00:05   \n",
       "102418             iOS               Application Opened  2020-09-01 00:00:04   \n",
       "102419             iOS              Qr Scanner - Cancel  2020-09-01 00:00:03   \n",
       "102420         Android          Scooter Selected - Auto  2020-09-01 00:00:03   \n",
       "102421         Android          Scooter Selected - Auto  2020-09-01 00:00:02   \n",
       "\n",
       "                 created_at  \n",
       "0       2020-09-01 23:59:18  \n",
       "1       2020-09-01 23:59:35  \n",
       "2       2020-09-01 23:59:37  \n",
       "3       2020-09-01 23:37:46  \n",
       "4       2020-09-01 23:37:52  \n",
       "...                     ...  \n",
       "102417  2020-08-31 23:59:50  \n",
       "102418  2020-08-31 23:59:59  \n",
       "102419  2020-08-31 23:59:55  \n",
       "102420  2020-08-31 23:59:41  \n",
       "102421  2020-08-31 23:59:58  \n",
       "\n",
       "[102422 rows x 8 columns]"
      ]
     },
     "execution_count": 42,
     "metadata": {},
     "output_type": "execute_result"
    }
   ],
   "source": [
    "df"
   ]
  },
  {
   "cell_type": "code",
   "execution_count": 84,
   "id": "34d09244",
   "metadata": {},
   "outputs": [],
   "source": [
    "pd.set_option(\"display.max_rows\",None)"
   ]
  },
  {
   "cell_type": "code",
   "execution_count": null,
   "id": "dea97a7d",
   "metadata": {},
   "outputs": [],
   "source": []
  },
  {
   "cell_type": "code",
   "execution_count": 85,
   "id": "ebee4738",
   "metadata": {},
   "outputs": [
    {
     "data": {
      "text/plain": [
       "event_name\n",
       "Application Opened                                     26047\n",
       "Scooter Selected - Auto                                 8735\n",
       "Scooter Selected - User                                 6999\n",
       "Ride Started - Pre-Ride                                 6693\n",
       "Ride Done - Successful                                  5165\n",
       "Ride Started - Successful                               5135\n",
       "Sidebar Opened                                          5061\n",
       "Qr Scanner - Scanned Succeeded                          4927\n",
       "Qr Scanner Tapped                                       4220\n",
       "Vehicle Selected - User                                 2525\n",
       "List Of Payment Shown                                   2151\n",
       "Vehicle Selected - Auto                                 2092\n",
       "Application Updated                                     1973\n",
       "Payment Method Chosen                                   1791\n",
       "Phone Number Entered                                    1350\n",
       "Payment Method Screen Opened                            1274\n",
       "Map Legend Clicked                                      1206\n",
       "Personal Details Added Succeeded                        1069\n",
       "Qr Scanner - Scan Failed - Scooter Not Available        1066\n",
       "Terms And Privacy Policy Accepted                       1058\n",
       "Payment Opened                                           969\n",
       "Qr Scanner - Cancel                                      782\n",
       "Redeem Code                                              774\n",
       "Paypal Added Successfully                                732\n",
       "Rating Screen Closed - Maybe Later                       585\n",
       "Payment Details Screen Opened                            561\n",
       "Ride Started - Unsuccessful                              543\n",
       "Signup Started                                           523\n",
       "Qr Scanner - Flashlight                                  460\n",
       "Play Sound From Scooter                                  457\n",
       "Qr Scanner - Scan Failed - Not Our Scooter               386\n",
       "Ride Cancelled                                           361\n",
       "Credit Card Details Accepted                             355\n",
       "Help - Sidebar                                           345\n",
       "Safety                                                   326\n",
       "No-Parking View Shown                                    296\n",
       "Add Payment Method                                       290\n",
       "Account Setup Opened                                     287\n",
       "Paypal Dialogue Shown                                    272\n",
       "Rating Screen Closed - Not Interested                    269\n",
       "Signup Completed                                         267\n",
       "Paypal Dialogue - Okay Pressed                           249\n",
       "Ride Done - Not Charged                                  241\n",
       "Qr Scanner - Enter Number                                201\n",
       "Reduced Speed Snackbar Shown - Out Of Business Zone      186\n",
       "Qr Scanner - Scan Failed - Vehicle Not Available         174\n",
       "Out-Of-Business Zone View Shown                          165\n",
       "Help - Booking                                           138\n",
       "Layover - Tier Not Available Yet                         129\n",
       "Ride Done - Unsuccessful                                 126\n",
       "Play Sound From Vehicle                                  121\n",
       "Paypal Cancelled                                          67\n",
       "Signup Complete                                           58\n",
       "Credit Card Details Rejected                              57\n",
       "Qr Scanner - Scan Failed - Not Our Vehicle                48\n",
       "Phone Number Blocked - Phone Validation                   25\n",
       "Paypal Dialogue - Cancel Pressed                          18\n",
       "Customer Blocked - Phone Validation                       16\n",
       "Paypal Error Shown                                        10\n",
       "Location Services Dialogue Opened                          8\n",
       "Location Services Enabled                                  8\n",
       "Name: count, dtype: int64"
      ]
     },
     "execution_count": 85,
     "metadata": {},
     "output_type": "execute_result"
    }
   ],
   "source": [
    "df['event_name'].value_counts()"
   ]
  },
  {
   "cell_type": "code",
   "execution_count": 79,
   "id": "dfd4e7d0",
   "metadata": {},
   "outputs": [
    {
     "data": {
      "text/plain": [
       "array(['Out-Of-Business Zone View Shown', 'Application Opened',\n",
       "       'Ride Done - Successful', 'Ride Done - Unsuccessful',\n",
       "       'Reduced Speed Snackbar Shown - Out Of Business Zone',\n",
       "       'Vehicle Selected - User', 'Vehicle Selected - Auto',\n",
       "       'Qr Scanner Tapped', 'Qr Scanner - Scanned Succeeded',\n",
       "       'Ride Started - Pre-Ride', 'Ride Started - Successful',\n",
       "       'Application Updated', 'Scooter Selected - User',\n",
       "       'Scooter Selected - Auto',\n",
       "       'Qr Scanner - Scan Failed - Vehicle Not Available',\n",
       "       'Paypal Added Successfully', 'List Of Payment Shown',\n",
       "       'Payment Method Chosen', 'Personal Details Added Succeeded',\n",
       "       'Payment Method Screen Opened', 'Phone Number Entered',\n",
       "       'Terms And Privacy Policy Accepted', 'Qr Scanner - Enter Number',\n",
       "       'Ride Started - Unsuccessful', 'Add Payment Method',\n",
       "       'Sidebar Opened', 'Redeem Code', 'Play Sound From Vehicle',\n",
       "       'Map Legend Clicked', 'Rating Screen Closed - Maybe Later',\n",
       "       'Payment Details Screen Opened', 'Play Sound From Scooter',\n",
       "       'Qr Scanner - Cancel', 'Payment Opened', 'Qr Scanner - Flashlight',\n",
       "       'Signup Completed', 'Credit Card Details Accepted', 'Safety',\n",
       "       'Help - Booking', 'No-Parking View Shown', 'Signup Started',\n",
       "       'Rating Screen Closed - Not Interested', 'Help - Sidebar',\n",
       "       'Credit Card Details Rejected', 'Layover - Tier Not Available Yet',\n",
       "       'Account Setup Opened', 'Paypal Dialogue Shown',\n",
       "       'Paypal Dialogue - Okay Pressed', 'Ride Done - Not Charged',\n",
       "       'Qr Scanner - Scan Failed - Scooter Not Available',\n",
       "       'Ride Cancelled', 'Paypal Cancelled',\n",
       "       'Qr Scanner - Scan Failed - Not Our Scooter',\n",
       "       'Paypal Dialogue - Cancel Pressed', 'Paypal Error Shown',\n",
       "       'Location Services Dialogue Opened', 'Location Services Enabled',\n",
       "       'Signup Complete', 'Customer Blocked - Phone Validation',\n",
       "       'Phone Number Blocked - Phone Validation',\n",
       "       'Qr Scanner - Scan Failed - Not Our Vehicle'], dtype=object)"
      ]
     },
     "execution_count": 79,
     "metadata": {},
     "output_type": "execute_result"
    }
   ],
   "source": [
    "df['event_name'].unique()"
   ]
  },
  {
   "cell_type": "code",
   "execution_count": 23,
   "id": "a5ca8a6d",
   "metadata": {},
   "outputs": [],
   "source": [
    "#1. What is the % of sessions with an intention to book a scooter"
   ]
  },
  {
   "cell_type": "code",
   "execution_count": 93,
   "id": "8e2b676c",
   "metadata": {},
   "outputs": [],
   "source": [
    "intention_to_book_a_scooter = df[df[\"event_name\"].str.contains(\"Application Opened|Scooter Selected|Map Legend Clicked|Payment Opened|\\\n",
    "                              Location Services Dialogue Opened|Location Services Enabled\")][\"event_name\"].count()"
   ]
  },
  {
   "cell_type": "code",
   "execution_count": 94,
   "id": "724780ee",
   "metadata": {},
   "outputs": [
    {
     "data": {
      "text/plain": [
       "(43964, 102422)"
      ]
     },
     "execution_count": 94,
     "metadata": {},
     "output_type": "execute_result"
    }
   ],
   "source": [
    "intention_to_book_a_scooter,total_session"
   ]
  },
  {
   "cell_type": "code",
   "execution_count": 101,
   "id": "aeb88ecd",
   "metadata": {},
   "outputs": [
    {
     "data": {
      "text/plain": [
       "42.92437171701392"
      ]
     },
     "execution_count": 101,
     "metadata": {},
     "output_type": "execute_result"
    }
   ],
   "source": [
    "(intention_to_book_a_scooter/total_session)*100"
   ]
  },
  {
   "cell_type": "code",
   "execution_count": 24,
   "id": "5262ae26",
   "metadata": {},
   "outputs": [],
   "source": [
    "#2. What is the % of sessions with a successful booking?"
   ]
  },
  {
   "cell_type": "code",
   "execution_count": 25,
   "id": "45f2de3f",
   "metadata": {},
   "outputs": [],
   "source": [
    "#Assuming that if event name contains \"Ride Done - Successful\" or \"Ride Started - Successful are successful booking"
   ]
  },
  {
   "cell_type": "code",
   "execution_count": 68,
   "id": "f1e82a94",
   "metadata": {
    "scrolled": true
   },
   "outputs": [],
   "source": [
    "successful_booking = df[df[\"event_name\"].str.contains('Ride Done - Successful|Ride Started - Successful')][\"event_name\"].count()"
   ]
  },
  {
   "cell_type": "code",
   "execution_count": 69,
   "id": "29ae5175",
   "metadata": {},
   "outputs": [
    {
     "data": {
      "text/plain": [
       "10300"
      ]
     },
     "execution_count": 69,
     "metadata": {},
     "output_type": "execute_result"
    }
   ],
   "source": [
    "successful_booking"
   ]
  },
  {
   "cell_type": "code",
   "execution_count": 70,
   "id": "2f6a717a",
   "metadata": {},
   "outputs": [],
   "source": [
    "total_session = df[\"event_name\"].count()"
   ]
  },
  {
   "cell_type": "code",
   "execution_count": 71,
   "id": "44b8a652",
   "metadata": {},
   "outputs": [],
   "source": [
    "successful_booking_percent = (successful_booking/total_session)*100"
   ]
  },
  {
   "cell_type": "code",
   "execution_count": 72,
   "id": "79283519",
   "metadata": {},
   "outputs": [
    {
     "data": {
      "text/plain": [
       "10.056433188182226"
      ]
     },
     "execution_count": 72,
     "metadata": {},
     "output_type": "execute_result"
    }
   ],
   "source": [
    "successful_booking_percent"
   ]
  },
  {
   "cell_type": "code",
   "execution_count": 73,
   "id": "50fc6616",
   "metadata": {},
   "outputs": [],
   "source": [
    "#3. What determines, according to you, an intention to book?"
   ]
  },
  {
   "cell_type": "markdown",
   "id": "0b176988",
   "metadata": {},
   "source": [
    "if event_name consist keyword Like \"Application Opened,Vehicle Selected\" like those keyword could be \n",
    "considered as intention to book"
   ]
  },
  {
   "cell_type": "code",
   "execution_count": 80,
   "id": "13f6c5a6",
   "metadata": {},
   "outputs": [],
   "source": [
    "#4. What are factors, according to you, determining a successful booking? "
   ]
  },
  {
   "cell_type": "markdown",
   "id": "999ebb9b",
   "metadata": {},
   "source": [
    "if event_name consist of \"Ride Done - Successful|Ride Started - Successful\" could be a indicator of successful booking."
   ]
  },
  {
   "cell_type": "code",
   "execution_count": null,
   "id": "0a076515",
   "metadata": {},
   "outputs": [],
   "source": []
  }
 ],
 "metadata": {
  "kernelspec": {
   "display_name": "Python 3 (ipykernel)",
   "language": "python",
   "name": "python3"
  },
  "language_info": {
   "codemirror_mode": {
    "name": "ipython",
    "version": 3
   },
   "file_extension": ".py",
   "mimetype": "text/x-python",
   "name": "python",
   "nbconvert_exporter": "python",
   "pygments_lexer": "ipython3",
   "version": "3.10.9"
  }
 },
 "nbformat": 4,
 "nbformat_minor": 5
}
